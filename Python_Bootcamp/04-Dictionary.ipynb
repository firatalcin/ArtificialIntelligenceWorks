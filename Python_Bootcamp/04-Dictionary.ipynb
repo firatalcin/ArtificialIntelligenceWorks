{
 "cells": [
  {
   "cell_type": "code",
   "execution_count": 1,
   "id": "3f779c02-c487-449b-a4a2-e32a69b76bf6",
   "metadata": {},
   "outputs": [],
   "source": [
    "fruit_list = [\"banana\", \"apple\"]"
   ]
  },
  {
   "cell_type": "code",
   "execution_count": 2,
   "id": "ba83c7f2-2da6-4443-be29-28146e9eda9c",
   "metadata": {},
   "outputs": [],
   "source": [
    "calorie_list = [100,150]"
   ]
  },
  {
   "cell_type": "code",
   "execution_count": 4,
   "id": "0ac1acc6-09c0-4490-b771-4963cd19e387",
   "metadata": {},
   "outputs": [],
   "source": [
    "fitness_dictionary = {\"banana\":100, \"apple\":150}"
   ]
  },
  {
   "cell_type": "code",
   "execution_count": 5,
   "id": "0a71b70b-bf55-48b1-9478-d851264e1f1f",
   "metadata": {},
   "outputs": [
    {
     "data": {
      "text/plain": [
       "dict"
      ]
     },
     "execution_count": 5,
     "metadata": {},
     "output_type": "execute_result"
    }
   ],
   "source": [
    "type(fitness_dictionary)"
   ]
  },
  {
   "cell_type": "code",
   "execution_count": 6,
   "id": "f674debd-25df-4d6e-95bd-81a2b25ddeed",
   "metadata": {},
   "outputs": [
    {
     "data": {
      "text/plain": [
       "100"
      ]
     },
     "execution_count": 6,
     "metadata": {},
     "output_type": "execute_result"
    }
   ],
   "source": [
    "fitness_dictionary[\"banana\"]"
   ]
  },
  {
   "cell_type": "code",
   "execution_count": 7,
   "id": "a4b60347-6866-4389-b0f1-6d5936da81ce",
   "metadata": {},
   "outputs": [
    {
     "data": {
      "text/plain": [
       "dict_keys(['banana', 'apple'])"
      ]
     },
     "execution_count": 7,
     "metadata": {},
     "output_type": "execute_result"
    }
   ],
   "source": [
    "fitness_dictionary.keys()"
   ]
  },
  {
   "cell_type": "code",
   "execution_count": 8,
   "id": "4bf43f88-687e-4bfd-9f0b-055cb76b2aa8",
   "metadata": {},
   "outputs": [
    {
     "data": {
      "text/plain": [
       "dict_values([100, 150])"
      ]
     },
     "execution_count": 8,
     "metadata": {},
     "output_type": "execute_result"
    }
   ],
   "source": [
    "fitness_dictionary.values()"
   ]
  },
  {
   "cell_type": "code",
   "execution_count": 9,
   "id": "cb191eba-c63f-410d-a4ac-afc615508fda",
   "metadata": {},
   "outputs": [],
   "source": [
    "fitness_dictionary[\"banana\"] = 200"
   ]
  },
  {
   "cell_type": "code",
   "execution_count": 10,
   "id": "fe39dea3-a8ea-4d06-b459-b736b56e6d2f",
   "metadata": {},
   "outputs": [],
   "source": [
    "fitness_dictionary[\"melon\"] = 300"
   ]
  },
  {
   "cell_type": "code",
   "execution_count": 11,
   "id": "0a390269-67a6-4c12-accb-b9ecc6051599",
   "metadata": {},
   "outputs": [
    {
     "data": {
      "text/plain": [
       "{'banana': 200, 'apple': 150, 'melon': 300}"
      ]
     },
     "execution_count": 11,
     "metadata": {},
     "output_type": "execute_result"
    }
   ],
   "source": [
    "fitness_dictionary"
   ]
  },
  {
   "cell_type": "code",
   "execution_count": 12,
   "id": "c9252ee7-a093-4e43-bfff-4b8a4618244e",
   "metadata": {},
   "outputs": [
    {
     "data": {
      "text/plain": [
       "150"
      ]
     },
     "execution_count": 12,
     "metadata": {},
     "output_type": "execute_result"
    }
   ],
   "source": [
    "fitness_dictionary.get(\"apple\",0)"
   ]
  },
  {
   "cell_type": "code",
   "execution_count": 13,
   "id": "161bc4f4-67b6-4868-bde9-23eb9f65ff75",
   "metadata": {},
   "outputs": [],
   "source": [
    "my_dictionary = {100:\"a\", 200:\"b\", 300:\"c\"}"
   ]
  },
  {
   "cell_type": "code",
   "execution_count": 14,
   "id": "aa075d51-d2ee-4eb0-96ff-b4a92a609f2b",
   "metadata": {},
   "outputs": [
    {
     "data": {
      "text/plain": [
       "'a'"
      ]
     },
     "execution_count": 14,
     "metadata": {},
     "output_type": "execute_result"
    }
   ],
   "source": [
    "my_dictionary[100]"
   ]
  },
  {
   "cell_type": "code",
   "execution_count": 15,
   "id": "80ce7b6d-31e1-438a-ae72-1d89a4029819",
   "metadata": {},
   "outputs": [],
   "source": [
    "last_dictionary = {\"k1\":10, \"k2\": [10,20,30,40,50], \"k3\": \"string\", \"k4\": {\"a\":100, \"b\":200}}"
   ]
  },
  {
   "cell_type": "code",
   "execution_count": null,
   "id": "b8a9634d-c491-492c-828e-e1ed67b3bab3",
   "metadata": {},
   "outputs": [],
   "source": []
  }
 ],
 "metadata": {
  "kernelspec": {
   "display_name": "Python [conda env:base] *",
   "language": "python",
   "name": "conda-base-py"
  },
  "language_info": {
   "codemirror_mode": {
    "name": "ipython",
    "version": 3
   },
   "file_extension": ".py",
   "mimetype": "text/x-python",
   "name": "python",
   "nbconvert_exporter": "python",
   "pygments_lexer": "ipython3",
   "version": "3.13.5"
  }
 },
 "nbformat": 4,
 "nbformat_minor": 5
}
