{
 "cells": [
  {
   "cell_type": "code",
   "execution_count": 1,
   "id": "e4e7a43a-2979-4196-9d01-7ba477af18d1",
   "metadata": {},
   "outputs": [],
   "source": [
    "x = 5\n",
    "y = 2"
   ]
  },
  {
   "cell_type": "code",
   "execution_count": 2,
   "id": "d7159e4a-d812-4c7b-83d1-500225bb3a0c",
   "metadata": {},
   "outputs": [
    {
     "data": {
      "text/plain": [
       "True"
      ]
     },
     "execution_count": 2,
     "metadata": {},
     "output_type": "execute_result"
    }
   ],
   "source": [
    "x > y"
   ]
  },
  {
   "cell_type": "code",
   "execution_count": 3,
   "id": "b4f77dfe-e096-4c7f-953c-06c591821bdf",
   "metadata": {},
   "outputs": [
    {
     "data": {
      "text/plain": [
       "False"
      ]
     },
     "execution_count": 3,
     "metadata": {},
     "output_type": "execute_result"
    }
   ],
   "source": [
    "x == y"
   ]
  },
  {
   "cell_type": "code",
   "execution_count": 4,
   "id": "2c0140ea-e55e-4d20-9d73-3ac9d0fb8ee4",
   "metadata": {},
   "outputs": [
    {
     "data": {
      "text/plain": [
       "True"
      ]
     },
     "execution_count": 4,
     "metadata": {},
     "output_type": "execute_result"
    }
   ],
   "source": [
    "x != y"
   ]
  },
  {
   "cell_type": "code",
   "execution_count": 5,
   "id": "c19fd57d-ad7d-499f-a878-e597c5e41780",
   "metadata": {},
   "outputs": [
    {
     "data": {
      "text/plain": [
       "True"
      ]
     },
     "execution_count": 5,
     "metadata": {},
     "output_type": "execute_result"
    }
   ],
   "source": [
    "2 > 1 and 3 > 2"
   ]
  },
  {
   "cell_type": "code",
   "execution_count": 6,
   "id": "f6b460ca-8465-4bcb-ae92-fa3bb30467f0",
   "metadata": {},
   "outputs": [
    {
     "data": {
      "text/plain": [
       "True"
      ]
     },
     "execution_count": 6,
     "metadata": {},
     "output_type": "execute_result"
    }
   ],
   "source": [
    "2 < 1 or 3 > 2"
   ]
  },
  {
   "cell_type": "code",
   "execution_count": 7,
   "id": "42622e53-9b92-489b-91d7-c5688ccc131e",
   "metadata": {},
   "outputs": [
    {
     "data": {
      "text/plain": [
       "True"
      ]
     },
     "execution_count": 7,
     "metadata": {},
     "output_type": "execute_result"
    }
   ],
   "source": [
    "10 in [10,20,30]"
   ]
  },
  {
   "cell_type": "code",
   "execution_count": 9,
   "id": "7a78984f-e6ba-4cd1-a896-601b0fcf0ea6",
   "metadata": {},
   "outputs": [],
   "source": [
    "my_superhero = \"Batman\""
   ]
  },
  {
   "cell_type": "code",
   "execution_count": 10,
   "id": "7e52c0cd-9a4f-4a90-8c1d-c2d35d2be4f5",
   "metadata": {},
   "outputs": [
    {
     "name": "stdout",
     "output_type": "stream",
     "text": [
      "batman\n"
     ]
    }
   ],
   "source": [
    "if my_superhero == \"Batman\":\n",
    "    print(\"batman\")"
   ]
  },
  {
   "cell_type": "code",
   "execution_count": 11,
   "id": "a783786a-f0c0-4549-abfe-1ca81bd49651",
   "metadata": {},
   "outputs": [
    {
     "name": "stdout",
     "output_type": "stream",
     "text": [
      "batman\n"
     ]
    }
   ],
   "source": [
    "if my_superhero == \"Superman\":\n",
    "    print(\"superman\")\n",
    "elif my_superhero == \"Batman\":\n",
    "    print(\"batman\")\n",
    "else:\n",
    "    print(\"default\")"
   ]
  },
  {
   "cell_type": "code",
   "execution_count": null,
   "id": "e4309300-377b-4c9e-a4dc-c401d41817a5",
   "metadata": {},
   "outputs": [],
   "source": []
  }
 ],
 "metadata": {
  "kernelspec": {
   "display_name": "Python [conda env:base] *",
   "language": "python",
   "name": "conda-base-py"
  },
  "language_info": {
   "codemirror_mode": {
    "name": "ipython",
    "version": 3
   },
   "file_extension": ".py",
   "mimetype": "text/x-python",
   "name": "python",
   "nbconvert_exporter": "python",
   "pygments_lexer": "ipython3",
   "version": "3.13.5"
  }
 },
 "nbformat": 4,
 "nbformat_minor": 5
}
