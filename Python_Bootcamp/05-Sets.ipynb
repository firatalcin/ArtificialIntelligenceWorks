{
 "cells": [
  {
   "cell_type": "code",
   "execution_count": 1,
   "id": "722eeab3-f428-4c4d-8711-c2881bfbc88b",
   "metadata": {},
   "outputs": [],
   "source": [
    "myList= [10,20,30,10,20,40,10,20,30]"
   ]
  },
  {
   "cell_type": "code",
   "execution_count": 2,
   "id": "bd334c77-f2ed-4e63-9a3c-8afe0a71d34b",
   "metadata": {},
   "outputs": [],
   "source": [
    "mySet = set(myList)"
   ]
  },
  {
   "cell_type": "code",
   "execution_count": 3,
   "id": "b9be9605-bb69-49a6-a1a9-34478867dd91",
   "metadata": {},
   "outputs": [
    {
     "data": {
      "text/plain": [
       "{10, 20, 30, 40}"
      ]
     },
     "execution_count": 3,
     "metadata": {},
     "output_type": "execute_result"
    }
   ],
   "source": [
    "mySet #unique değer olarak çalışır"
   ]
  },
  {
   "cell_type": "code",
   "execution_count": 6,
   "id": "1247bbcf-14d0-4a00-ad64-2c5129ade975",
   "metadata": {},
   "outputs": [],
   "source": [
    "mySet2 = {40,50,60,70,80}"
   ]
  },
  {
   "cell_type": "code",
   "execution_count": 7,
   "id": "ffcd3372-8025-46f0-a830-2e7b13a0d9e5",
   "metadata": {},
   "outputs": [
    {
     "data": {
      "text/plain": [
       "{10, 20, 30, 40, 50, 60, 70, 80}"
      ]
     },
     "execution_count": 7,
     "metadata": {},
     "output_type": "execute_result"
    }
   ],
   "source": [
    "mySet.union(mySet2)"
   ]
  },
  {
   "cell_type": "code",
   "execution_count": 8,
   "id": "484c41b7-e9ae-4524-bd5e-630df40e1670",
   "metadata": {},
   "outputs": [
    {
     "data": {
      "text/plain": [
       "{40}"
      ]
     },
     "execution_count": 8,
     "metadata": {},
     "output_type": "execute_result"
    }
   ],
   "source": [
    "mySet.intersection(mySet2)"
   ]
  },
  {
   "cell_type": "code",
   "execution_count": null,
   "id": "95f6f3df-c9ef-4dd2-9e90-cea5f02110e7",
   "metadata": {},
   "outputs": [],
   "source": []
  }
 ],
 "metadata": {
  "kernelspec": {
   "display_name": "Python [conda env:base] *",
   "language": "python",
   "name": "conda-base-py"
  },
  "language_info": {
   "codemirror_mode": {
    "name": "ipython",
    "version": 3
   },
   "file_extension": ".py",
   "mimetype": "text/x-python",
   "name": "python",
   "nbconvert_exporter": "python",
   "pygments_lexer": "ipython3",
   "version": "3.13.5"
  }
 },
 "nbformat": 4,
 "nbformat_minor": 5
}
