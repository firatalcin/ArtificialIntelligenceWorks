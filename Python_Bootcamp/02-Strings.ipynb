{
 "cells": [
  {
   "cell_type": "code",
   "execution_count": 1,
   "id": "420403c3-087c-40ae-970f-fcfbe95296b0",
   "metadata": {},
   "outputs": [
    {
     "data": {
      "text/plain": [
       "'hello world'"
      ]
     },
     "execution_count": 1,
     "metadata": {},
     "output_type": "execute_result"
    }
   ],
   "source": [
    "\"hello world\""
   ]
  },
  {
   "cell_type": "code",
   "execution_count": 2,
   "id": "6976347b-777b-443c-8216-ecc5dcfb620e",
   "metadata": {},
   "outputs": [
    {
     "name": "stdout",
     "output_type": "stream",
     "text": [
      "hello python\n"
     ]
    }
   ],
   "source": [
    "print(\"hello python\")"
   ]
  },
  {
   "cell_type": "code",
   "execution_count": 3,
   "id": "485d902c-c427-4a2f-8fd6-ff8d9cb54d03",
   "metadata": {},
   "outputs": [],
   "source": [
    "name = \"firat\""
   ]
  },
  {
   "cell_type": "code",
   "execution_count": 4,
   "id": "09f2cf3e-dbfb-476b-9734-187584a6fafd",
   "metadata": {},
   "outputs": [
    {
     "data": {
      "text/plain": [
       "str"
      ]
     },
     "execution_count": 4,
     "metadata": {},
     "output_type": "execute_result"
    }
   ],
   "source": [
    "type(name)"
   ]
  },
  {
   "cell_type": "code",
   "execution_count": 5,
   "id": "bef3ab99-c9bf-4c5d-9acb-6b7a954887d1",
   "metadata": {},
   "outputs": [
    {
     "data": {
      "text/plain": [
       "\"Fırat'ın Yeri\""
      ]
     },
     "execution_count": 5,
     "metadata": {},
     "output_type": "execute_result"
    }
   ],
   "source": [
    "\"Fırat'ın Yeri\""
   ]
  },
  {
   "cell_type": "code",
   "execution_count": 6,
   "id": "275d4abd-5c01-45a4-b488-36539569b545",
   "metadata": {},
   "outputs": [
    {
     "data": {
      "text/plain": [
       "'Firat'"
      ]
     },
     "execution_count": 6,
     "metadata": {},
     "output_type": "execute_result"
    }
   ],
   "source": [
    "name.capitalize()  #ilk harfi büyüt"
   ]
  },
  {
   "cell_type": "code",
   "execution_count": 7,
   "id": "10e5c21c-c01b-4917-a879-3b54e7f6160d",
   "metadata": {},
   "outputs": [],
   "source": [
    "x = 10"
   ]
  },
  {
   "cell_type": "code",
   "execution_count": 8,
   "id": "e48dbe84-eedd-4028-8092-a99f4f42b29a",
   "metadata": {},
   "outputs": [],
   "source": [
    "name = \"firat alcin\""
   ]
  },
  {
   "cell_type": "code",
   "execution_count": 9,
   "id": "3baa3ad2-9022-467c-adb9-0e200c818ce7",
   "metadata": {},
   "outputs": [
    {
     "name": "stdout",
     "output_type": "stream",
     "text": [
      "Help on built-in function count:\n",
      "\n",
      "count(sub[, start[, end]], /) method of builtins.str instance\n",
      "    Return the number of non-overlapping occurrences of substring sub in string S[start:end].\n",
      "\n",
      "    Optional arguments start and end are interpreted as in slice notation.\n",
      "\n"
     ]
    }
   ],
   "source": [
    "help(name.count)"
   ]
  },
  {
   "cell_type": "code",
   "execution_count": 10,
   "id": "83cc1358-953f-4af7-9097-24c23b36c68b",
   "metadata": {},
   "outputs": [
    {
     "data": {
      "text/plain": [
       "2"
      ]
     },
     "execution_count": 10,
     "metadata": {},
     "output_type": "execute_result"
    }
   ],
   "source": [
    "name.count(\"a\")"
   ]
  },
  {
   "cell_type": "code",
   "execution_count": 11,
   "id": "116939da-c0d1-4d2d-a058-0063b817cbea",
   "metadata": {},
   "outputs": [
    {
     "data": {
      "text/plain": [
       "'FIRAT ALCIN'"
      ]
     },
     "execution_count": 11,
     "metadata": {},
     "output_type": "execute_result"
    }
   ],
   "source": [
    "name.upper()"
   ]
  },
  {
   "cell_type": "code",
   "execution_count": 14,
   "id": "810ebeb4-8543-461a-804b-e6d26b90c6fb",
   "metadata": {},
   "outputs": [],
   "source": [
    "x = 10\n",
    "y = 5 "
   ]
  },
  {
   "cell_type": "code",
   "execution_count": 15,
   "id": "99c3adde-c244-43d9-9ede-69e980286257",
   "metadata": {},
   "outputs": [
    {
     "data": {
      "text/plain": [
       "15"
      ]
     },
     "execution_count": 15,
     "metadata": {},
     "output_type": "execute_result"
    }
   ],
   "source": [
    "x + y"
   ]
  },
  {
   "cell_type": "code",
   "execution_count": 16,
   "id": "2f49892d-434d-4b7a-a27e-45f4143276e6",
   "metadata": {},
   "outputs": [],
   "source": [
    "z = x + y"
   ]
  },
  {
   "cell_type": "code",
   "execution_count": 17,
   "id": "5721c403-36b5-4d7a-8b7b-78f6eba8c79c",
   "metadata": {},
   "outputs": [
    {
     "data": {
      "text/plain": [
       "15"
      ]
     },
     "execution_count": 17,
     "metadata": {},
     "output_type": "execute_result"
    }
   ],
   "source": [
    "z"
   ]
  },
  {
   "cell_type": "code",
   "execution_count": 18,
   "id": "90e4d428-9380-48f7-ab21-4a1e2abc22f7",
   "metadata": {},
   "outputs": [
    {
     "data": {
      "text/plain": [
       "11"
      ]
     },
     "execution_count": 18,
     "metadata": {},
     "output_type": "execute_result"
    }
   ],
   "source": [
    "len(name)"
   ]
  },
  {
   "cell_type": "code",
   "execution_count": 20,
   "id": "aa7dbbfd-be96-49aa-83a0-e29a838c10b3",
   "metadata": {},
   "outputs": [
    {
     "name": "stdout",
     "output_type": "stream",
     "text": [
      "firat \n",
      "alcin\n"
     ]
    }
   ],
   "source": [
    "print(\"firat \\nalcin\")"
   ]
  },
  {
   "cell_type": "markdown",
   "id": "07be3eff-ff85-46a6-b218-e3a865821807",
   "metadata": {},
   "source": [
    "# Index"
   ]
  },
  {
   "cell_type": "code",
   "execution_count": 21,
   "id": "0fa4d567-7e40-4412-98f0-6b485bf172e8",
   "metadata": {},
   "outputs": [],
   "source": [
    "myString = \"hello python\""
   ]
  },
  {
   "cell_type": "code",
   "execution_count": 22,
   "id": "83d245d1-154d-468e-be2c-93a36788ede9",
   "metadata": {},
   "outputs": [
    {
     "data": {
      "text/plain": [
       "'o'"
      ]
     },
     "execution_count": 22,
     "metadata": {},
     "output_type": "execute_result"
    }
   ],
   "source": [
    "myString[4]"
   ]
  },
  {
   "cell_type": "code",
   "execution_count": 23,
   "id": "885edddb-28a9-4273-8223-7445821f1656",
   "metadata": {},
   "outputs": [
    {
     "data": {
      "text/plain": [
       "'n'"
      ]
     },
     "execution_count": 23,
     "metadata": {},
     "output_type": "execute_result"
    }
   ],
   "source": [
    "myString[len(myString) -1]"
   ]
  },
  {
   "cell_type": "code",
   "execution_count": 24,
   "id": "1c79c118-d936-4203-b3a0-7cb30fbe86ba",
   "metadata": {},
   "outputs": [
    {
     "data": {
      "text/plain": [
       "'n'"
      ]
     },
     "execution_count": 24,
     "metadata": {},
     "output_type": "execute_result"
    }
   ],
   "source": [
    "myString[-1]"
   ]
  },
  {
   "cell_type": "code",
   "execution_count": 25,
   "id": "f880304b-4226-442c-a2b8-7463ec8fdaf8",
   "metadata": {},
   "outputs": [],
   "source": [
    "barcode = \"ABCDE123123982\""
   ]
  },
  {
   "cell_type": "code",
   "execution_count": 26,
   "id": "de342de8-5008-41ef-aa75-467162be4ba7",
   "metadata": {},
   "outputs": [],
   "source": [
    "#slicing, starting index, stopping index, stepping size"
   ]
  },
  {
   "cell_type": "code",
   "execution_count": 28,
   "id": "854ead17-f9ab-4694-8609-9ae73f807339",
   "metadata": {},
   "outputs": [
    {
     "data": {
      "text/plain": [
       "'ABC'"
      ]
     },
     "execution_count": 28,
     "metadata": {},
     "output_type": "execute_result"
    }
   ],
   "source": [
    "barcode[0:3:1]"
   ]
  },
  {
   "cell_type": "code",
   "execution_count": 29,
   "id": "748f0b15-e0e7-4bd8-8ef6-3f8624fb26f9",
   "metadata": {},
   "outputs": [
    {
     "data": {
      "text/plain": [
       "'firat alcin'"
      ]
     },
     "execution_count": 29,
     "metadata": {},
     "output_type": "execute_result"
    }
   ],
   "source": [
    "name"
   ]
  },
  {
   "cell_type": "code",
   "execution_count": 30,
   "id": "840c581d-fcd6-4e89-a1cc-bf65a3fa4662",
   "metadata": {},
   "outputs": [
    {
     "data": {
      "text/plain": [
       "1"
      ]
     },
     "execution_count": 30,
     "metadata": {},
     "output_type": "execute_result"
    }
   ],
   "source": [
    "name.index(\"i\")"
   ]
  },
  {
   "cell_type": "code",
   "execution_count": 31,
   "id": "ed4d6915-f1f1-4a11-be6c-3b1f07eb20f6",
   "metadata": {},
   "outputs": [
    {
     "data": {
      "text/plain": [
       "['firat', 'alcin']"
      ]
     },
     "execution_count": 31,
     "metadata": {},
     "output_type": "execute_result"
    }
   ],
   "source": [
    "name.split()"
   ]
  },
  {
   "cell_type": "code",
   "execution_count": 32,
   "id": "182065f6-ab9a-4cc6-866a-895c8954b52e",
   "metadata": {},
   "outputs": [
    {
     "data": {
      "text/plain": [
       "list"
      ]
     },
     "execution_count": 32,
     "metadata": {},
     "output_type": "execute_result"
    }
   ],
   "source": [
    "type(name.split())"
   ]
  },
  {
   "cell_type": "code",
   "execution_count": null,
   "id": "80a924a6-14fb-476d-9cc1-169cdbaffbdb",
   "metadata": {},
   "outputs": [],
   "source": []
  }
 ],
 "metadata": {
  "kernelspec": {
   "display_name": "Python [conda env:base] *",
   "language": "python",
   "name": "conda-base-py"
  },
  "language_info": {
   "codemirror_mode": {
    "name": "ipython",
    "version": 3
   },
   "file_extension": ".py",
   "mimetype": "text/x-python",
   "name": "python",
   "nbconvert_exporter": "python",
   "pygments_lexer": "ipython3",
   "version": "3.13.5"
  }
 },
 "nbformat": 4,
 "nbformat_minor": 5
}
