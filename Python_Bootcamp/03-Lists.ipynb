{
 "cells": [
  {
   "cell_type": "code",
   "execution_count": 1,
   "id": "b50772a7-a5a9-419a-86d9-4e10a2902c63",
   "metadata": {},
   "outputs": [],
   "source": [
    "# list"
   ]
  },
  {
   "cell_type": "code",
   "execution_count": 2,
   "id": "97a9574f-1188-44c2-936d-7feecf5dafd9",
   "metadata": {},
   "outputs": [],
   "source": [
    "myList = [10,20,30]"
   ]
  },
  {
   "cell_type": "code",
   "execution_count": 3,
   "id": "a8b90dbd-7576-4771-97e8-a41d0cbe6431",
   "metadata": {},
   "outputs": [
    {
     "data": {
      "text/plain": [
       "list"
      ]
     },
     "execution_count": 3,
     "metadata": {},
     "output_type": "execute_result"
    }
   ],
   "source": [
    "type(myList)"
   ]
  },
  {
   "cell_type": "code",
   "execution_count": 4,
   "id": "906b8544-41e6-479c-ac20-650629a32c33",
   "metadata": {},
   "outputs": [
    {
     "data": {
      "text/plain": [
       "[10, 20, 30]"
      ]
     },
     "execution_count": 4,
     "metadata": {},
     "output_type": "execute_result"
    }
   ],
   "source": [
    "myList"
   ]
  },
  {
   "cell_type": "code",
   "execution_count": 5,
   "id": "8740d48e-d5b8-4a1c-bf9e-1cb8db7939df",
   "metadata": {},
   "outputs": [
    {
     "data": {
      "text/plain": [
       "10"
      ]
     },
     "execution_count": 5,
     "metadata": {},
     "output_type": "execute_result"
    }
   ],
   "source": [
    "myList[0]"
   ]
  },
  {
   "cell_type": "code",
   "execution_count": 6,
   "id": "8bafd0ad-f101-4421-8f64-f06fc8a1e3f4",
   "metadata": {},
   "outputs": [],
   "source": [
    "myList[0] = 50"
   ]
  },
  {
   "cell_type": "code",
   "execution_count": 7,
   "id": "2f48ac30-9e59-46ab-a68f-a6397c27f340",
   "metadata": {},
   "outputs": [
    {
     "data": {
      "text/plain": [
       "[50, 20, 30]"
      ]
     },
     "execution_count": 7,
     "metadata": {},
     "output_type": "execute_result"
    }
   ],
   "source": [
    "myList"
   ]
  },
  {
   "cell_type": "code",
   "execution_count": 8,
   "id": "2bc3d5c1-54c3-4048-8d2e-5f58dd127285",
   "metadata": {},
   "outputs": [
    {
     "data": {
      "text/plain": [
       "3"
      ]
     },
     "execution_count": 8,
     "metadata": {},
     "output_type": "execute_result"
    }
   ],
   "source": [
    "len(myList)"
   ]
  },
  {
   "cell_type": "code",
   "execution_count": 9,
   "id": "047080c4-d551-4d3c-a456-07001111e336",
   "metadata": {},
   "outputs": [],
   "source": [
    "myList.append(60)"
   ]
  },
  {
   "cell_type": "code",
   "execution_count": 10,
   "id": "6484f1f5-a0e9-4266-b72c-d2dcc72df610",
   "metadata": {},
   "outputs": [
    {
     "data": {
      "text/plain": [
       "[50, 20, 30, 60]"
      ]
     },
     "execution_count": 10,
     "metadata": {},
     "output_type": "execute_result"
    }
   ],
   "source": [
    "myList"
   ]
  },
  {
   "cell_type": "code",
   "execution_count": 12,
   "id": "50c40f1f-20ba-4878-a46c-5441ad4610a0",
   "metadata": {},
   "outputs": [
    {
     "data": {
      "text/plain": [
       "1"
      ]
     },
     "execution_count": 12,
     "metadata": {},
     "output_type": "execute_result"
    }
   ],
   "source": [
    "myList.count(50)"
   ]
  },
  {
   "cell_type": "code",
   "execution_count": 13,
   "id": "71cf6610-f04b-49d2-a14a-a0f54d5f2fb7",
   "metadata": {},
   "outputs": [
    {
     "data": {
      "text/plain": [
       "1"
      ]
     },
     "execution_count": 13,
     "metadata": {},
     "output_type": "execute_result"
    }
   ],
   "source": [
    "myList.index(20)"
   ]
  },
  {
   "cell_type": "code",
   "execution_count": 14,
   "id": "3aee4c30-ef02-42ec-acd8-f59da3e0e412",
   "metadata": {},
   "outputs": [],
   "source": [
    "myList.insert(2,35)"
   ]
  },
  {
   "cell_type": "code",
   "execution_count": 15,
   "id": "70049429-ebf4-486f-8a8b-7d72973c4f46",
   "metadata": {},
   "outputs": [
    {
     "data": {
      "text/plain": [
       "[50, 20, 35, 30, 60]"
      ]
     },
     "execution_count": 15,
     "metadata": {},
     "output_type": "execute_result"
    }
   ],
   "source": [
    "myList"
   ]
  },
  {
   "cell_type": "code",
   "execution_count": 16,
   "id": "4654fe0a-85b7-48c6-8231-3a33a36522d2",
   "metadata": {},
   "outputs": [
    {
     "data": {
      "text/plain": [
       "<function list.pop(index=-1, /)>"
      ]
     },
     "execution_count": 16,
     "metadata": {},
     "output_type": "execute_result"
    }
   ],
   "source": [
    "myList.pop"
   ]
  },
  {
   "cell_type": "code",
   "execution_count": 17,
   "id": "27fae360-d244-4d6a-bf89-7ec00b07e650",
   "metadata": {},
   "outputs": [
    {
     "data": {
      "text/plain": [
       "60"
      ]
     },
     "execution_count": 17,
     "metadata": {},
     "output_type": "execute_result"
    }
   ],
   "source": [
    "myList.pop(-1)"
   ]
  },
  {
   "cell_type": "code",
   "execution_count": 18,
   "id": "ede92e2f-d27c-4984-b5fe-e0fa56d3e957",
   "metadata": {},
   "outputs": [],
   "source": [
    "myList.reverse()"
   ]
  },
  {
   "cell_type": "code",
   "execution_count": 19,
   "id": "982556ca-f14d-45df-b854-b0f3e59b46b2",
   "metadata": {},
   "outputs": [],
   "source": [
    "myList.sort()"
   ]
  },
  {
   "cell_type": "code",
   "execution_count": 20,
   "id": "f237ed5b-f5b3-49e9-9dfa-499939ca159b",
   "metadata": {},
   "outputs": [
    {
     "data": {
      "text/plain": [
       "[20, 30, 35, 50]"
      ]
     },
     "execution_count": 20,
     "metadata": {},
     "output_type": "execute_result"
    }
   ],
   "source": [
    "myList"
   ]
  },
  {
   "cell_type": "code",
   "execution_count": 21,
   "id": "8c746c81-ef7b-4108-93ce-09dc924b670f",
   "metadata": {},
   "outputs": [
    {
     "name": "stdin",
     "output_type": "stream",
     "text": [
      "enter x =  10\n"
     ]
    }
   ],
   "source": [
    "x = input(\"enter x = \")"
   ]
  },
  {
   "cell_type": "code",
   "execution_count": 22,
   "id": "9dc53155-5fe1-440e-8045-f2fbf4106cc1",
   "metadata": {},
   "outputs": [
    {
     "data": {
      "text/plain": [
       "'10'"
      ]
     },
     "execution_count": 22,
     "metadata": {},
     "output_type": "execute_result"
    }
   ],
   "source": [
    "x"
   ]
  },
  {
   "cell_type": "code",
   "execution_count": 23,
   "id": "3673cf5f-6636-4a85-84fd-8bef72998f87",
   "metadata": {},
   "outputs": [],
   "source": [
    "inputList = []"
   ]
  },
  {
   "cell_type": "code",
   "execution_count": 24,
   "id": "68edb7ef-8d34-44e0-9a8e-50e161c61ea4",
   "metadata": {},
   "outputs": [],
   "source": [
    "myInteger = 50"
   ]
  },
  {
   "cell_type": "code",
   "execution_count": 25,
   "id": "f2364989-356c-49c6-abae-723108a1048c",
   "metadata": {},
   "outputs": [
    {
     "data": {
      "text/plain": [
       "'50'"
      ]
     },
     "execution_count": 25,
     "metadata": {},
     "output_type": "execute_result"
    }
   ],
   "source": [
    "str(myInteger)"
   ]
  },
  {
   "cell_type": "code",
   "execution_count": 26,
   "id": "ba494a07-37de-400f-bcc2-55187db02063",
   "metadata": {},
   "outputs": [],
   "source": [
    "myString = \"40\""
   ]
  },
  {
   "cell_type": "code",
   "execution_count": 27,
   "id": "43d3ae56-25b7-4c4d-bf90-d2adede039f7",
   "metadata": {},
   "outputs": [
    {
     "data": {
      "text/plain": [
       "40"
      ]
     },
     "execution_count": 27,
     "metadata": {},
     "output_type": "execute_result"
    }
   ],
   "source": [
    "int(myString)"
   ]
  },
  {
   "cell_type": "code",
   "execution_count": 28,
   "id": "c9853e22-8982-4305-a8db-f858235c8104",
   "metadata": {},
   "outputs": [],
   "source": [
    "mixedList = [\"firat\", 100, 3.14]"
   ]
  },
  {
   "cell_type": "code",
   "execution_count": 29,
   "id": "3cd93b31-6907-422c-9913-9e229ca4ac37",
   "metadata": {},
   "outputs": [],
   "source": [
    "#nestedList"
   ]
  },
  {
   "cell_type": "code",
   "execution_count": 30,
   "id": "b295176d-af7a-480b-ac13-fe87931d4989",
   "metadata": {},
   "outputs": [],
   "source": [
    "myNestedList = [10,20,3.14,\"firat\",[1,2,3]]"
   ]
  },
  {
   "cell_type": "code",
   "execution_count": 31,
   "id": "c117b38b-80c6-4ba2-9ff6-9757e0aa9c2d",
   "metadata": {},
   "outputs": [
    {
     "data": {
      "text/plain": [
       "2"
      ]
     },
     "execution_count": 31,
     "metadata": {},
     "output_type": "execute_result"
    }
   ],
   "source": [
    "myNestedList[4][1]"
   ]
  },
  {
   "cell_type": "code",
   "execution_count": null,
   "id": "0fc349db-e947-4e58-9cbe-dbbc684c47a6",
   "metadata": {},
   "outputs": [],
   "source": []
  }
 ],
 "metadata": {
  "kernelspec": {
   "display_name": "Python [conda env:base] *",
   "language": "python",
   "name": "conda-base-py"
  },
  "language_info": {
   "codemirror_mode": {
    "name": "ipython",
    "version": 3
   },
   "file_extension": ".py",
   "mimetype": "text/x-python",
   "name": "python",
   "nbconvert_exporter": "python",
   "pygments_lexer": "ipython3",
   "version": "3.13.5"
  }
 },
 "nbformat": 4,
 "nbformat_minor": 5
}
